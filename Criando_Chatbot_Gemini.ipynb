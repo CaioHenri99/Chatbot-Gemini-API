{
  "nbformat": 4,
  "nbformat_minor": 0,
  "metadata": {
    "colab": {
      "provenance": [],
      "authorship_tag": "ABX9TyNLqwVfWgwdyzOGnOYMOi9w",
      "include_colab_link": true
    },
    "kernelspec": {
      "name": "python3",
      "display_name": "Python 3"
    },
    "language_info": {
      "name": "python"
    }
  },
  "cells": [
    {
      "cell_type": "markdown",
      "metadata": {
        "id": "view-in-github",
        "colab_type": "text"
      },
      "source": [
        "<a href=\"https://colab.research.google.com/github/CaioHenri99/Chatbot-Gemini-API/blob/main/Criando_Chatbot_Gemini.ipynb\" target=\"_parent\"><img src=\"https://colab.research.google.com/assets/colab-badge.svg\" alt=\"Open In Colab\"/></a>"
      ]
    },
    {
      "cell_type": "code",
      "execution_count": 24,
      "metadata": {
        "id": "CwaB7_tf8rTP"
      },
      "outputs": [],
      "source": [
        "#Instalando o SDK do Google\n",
        "!pip install -q -U google-generativeai"
      ]
    },
    {
      "cell_type": "code",
      "source": [
        "#Configurações iniciais: Importando a biblioteca e conectando a API KEY do Gemini\n",
        "import google.generativeai as genai\n",
        "from google.colab import userdata\n",
        "\n",
        "api_key = userdata.get('secretName')\n",
        "genai.configure(api_key=api_key)"
      ],
      "metadata": {
        "id": "tuGWdCD-gjeq"
      },
      "execution_count": 35,
      "outputs": []
    },
    {
      "cell_type": "code",
      "source": [
        "#Listando modelos disponíveis do Gemini\n",
        "for m in genai.list_models():\n",
        "  if 'generateContent' in m.supported_generation_methods:\n",
        "    print(m.name)"
      ],
      "metadata": {
        "colab": {
          "base_uri": "https://localhost:8080/",
          "height": 138
        },
        "id": "ORT4AmTOhE1v",
        "outputId": "4470f3bf-2ba5-4e6c-ef39-fc389a2b2346"
      },
      "execution_count": 36,
      "outputs": [
        {
          "output_type": "stream",
          "name": "stdout",
          "text": [
            "models/gemini-1.0-pro\n",
            "models/gemini-1.0-pro-001\n",
            "models/gemini-1.0-pro-latest\n",
            "models/gemini-1.0-pro-vision-latest\n",
            "models/gemini-1.5-pro-latest\n",
            "models/gemini-pro\n",
            "models/gemini-pro-vision\n"
          ]
        }
      ]
    },
    {
      "cell_type": "code",
      "source": [
        "#Definindo os parâmetros\n",
        "generation_config = {\n",
        "    'candidate_count': 1,\n",
        "    'temperature': 0.5\n",
        "}"
      ],
      "metadata": {
        "id": "jMO0wZAghX2H"
      },
      "execution_count": 38,
      "outputs": []
    },
    {
      "cell_type": "code",
      "source": [
        "#Definindo configurações de segurança\n",
        "segurança_settings = {\n",
        "    'HATE': 'BLOCK_NONE',\n",
        "    'HARASSMENT': 'BLOCK_NONE',\n",
        "    'SEXUAL': 'BLOCK_NONE'\n",
        "}"
      ],
      "metadata": {
        "id": "bJpHTQsQh_gI"
      },
      "execution_count": 39,
      "outputs": []
    },
    {
      "cell_type": "code",
      "source": [
        "#Selecionando o modelo do Gemini para utilizar no chatbot\n",
        "model = genai.GenerativeModel(model_name='gemini-1.0-pro',\n",
        "                              generation_config=generation_config,\n",
        "                              safety_settings=segurança_settings)"
      ],
      "metadata": {
        "id": "-I8COI2OiwSm"
      },
      "execution_count": 40,
      "outputs": []
    },
    {
      "cell_type": "code",
      "source": [
        "#Utilizando o 'response' para criar as perguntas para o chatbot responder\n",
        "response = model.generate_content('Quem criou o Google?')\n",
        "response.text"
      ],
      "metadata": {
        "colab": {
          "base_uri": "https://localhost:8080/",
          "height": 36
        },
        "id": "y__yGPJdjYk_",
        "outputId": "ccfd2583-cf56-48b2-b8ed-9b2b8a8f9172"
      },
      "execution_count": 32,
      "outputs": [
        {
          "output_type": "execute_result",
          "data": {
            "text/plain": [
              "'Larry Page e Sergey Brin'"
            ],
            "application/vnd.google.colaboratory.intrinsic+json": {
              "type": "string"
            }
          },
          "metadata": {},
          "execution_count": 32
        }
      ]
    },
    {
      "cell_type": "code",
      "source": [
        "#Criando um modelo de chat com o history(histórico) e colocando o input para os prompts\n",
        "chat = model.start_chat(history=[])\n",
        "\n",
        "prompt = input('Escreva um prompt: ')\n",
        "\n",
        "while prompt != 'fim':\n",
        "  response = chat.send_message(prompt)\n",
        "  print('Resposta: ', response.text, '\\n\\n')\n",
        "  prompt = input('Escreva um prompt: ')"
      ],
      "metadata": {
        "colab": {
          "base_uri": "https://localhost:8080/",
          "height": 280
        },
        "id": "HuTP-k-Qj1KD",
        "outputId": "5a3d3df1-d974-47a2-c442-abecf4c12f0b"
      },
      "execution_count": 33,
      "outputs": [
        {
          "name": "stdout",
          "output_type": "stream",
          "text": [
            "Escreva um prompt: O que é IA?\n",
            "Resposta:  Inteligência Artificial (IA) é um campo da ciência da computação que se concentra no desenvolvimento de sistemas de computador que podem executar tarefas que normalmente requerem inteligência humana, como:\n",
            "\n",
            "* **Aprendizado de Máquina:** Sistemas que podem aprender com dados sem serem explicitamente programados.\n",
            "* **Processamento de Linguagem Natural:** Sistemas que podem entender e gerar linguagem humana.\n",
            "* **Visão Computacional:** Sistemas que podem \"ver\" e interpretar imagens e vídeos.\n",
            "* **Tomada de Decisão:** Sistemas que podem analisar dados e tomar decisões informadas.\n",
            "* **Planejamento:** Sistemas que podem criar e executar planos para atingir objetivos.\n",
            "* **Resolução de Problemas:** Sistemas que podem identificar e resolver problemas.\n",
            "* **Reconhecimento de Padrões:** Sistemas que podem identificar padrões em dados.\n",
            "* **Previsão:** Sistemas que podem prever eventos futuros com base em dados históricos. \n",
            "\n",
            "\n",
            "Escreva um prompt: fim\n"
          ]
        }
      ]
    },
    {
      "cell_type": "code",
      "source": [
        "#Melhorando a visualização da conversa\n",
        "import textwrap\n",
        "from IPython.display import display\n",
        "from IPython.display import Markdown\n",
        "\n",
        "def to_markdown(text):\n",
        "  text=text.replace('•', '  *')\n",
        "  return Markdown(textwrap.indent(text, '> ', predicate=lambda _: True))\n",
        "\n",
        "#Imprimindo o histórico\n",
        "for message in chat.history:\n",
        "  display(to_markdown(f'**{message.role}**: {message.parts[0].text}'))\n",
        "  print('-------------------------------------------')"
      ],
      "metadata": {
        "colab": {
          "base_uri": "https://localhost:8080/",
          "height": 305
        },
        "id": "3ywEe4rfl2_U",
        "outputId": "cbca03ad-2e50-49ca-a31b-0d2c7c0348f0"
      },
      "execution_count": 34,
      "outputs": [
        {
          "output_type": "display_data",
          "data": {
            "text/plain": [
              "<IPython.core.display.Markdown object>"
            ],
            "text/markdown": "> **user**: O que é IA?"
          },
          "metadata": {}
        },
        {
          "output_type": "stream",
          "name": "stdout",
          "text": [
            "-------------------------------------------\n"
          ]
        },
        {
          "output_type": "display_data",
          "data": {
            "text/plain": [
              "<IPython.core.display.Markdown object>"
            ],
            "text/markdown": "> **model**: Inteligência Artificial (IA) é um campo da ciência da computação que se concentra no desenvolvimento de sistemas de computador que podem executar tarefas que normalmente requerem inteligência humana, como:\n> \n> * **Aprendizado de Máquina:** Sistemas que podem aprender com dados sem serem explicitamente programados.\n> * **Processamento de Linguagem Natural:** Sistemas que podem entender e gerar linguagem humana.\n> * **Visão Computacional:** Sistemas que podem \"ver\" e interpretar imagens e vídeos.\n> * **Tomada de Decisão:** Sistemas que podem analisar dados e tomar decisões informadas.\n> * **Planejamento:** Sistemas que podem criar e executar planos para atingir objetivos.\n> * **Resolução de Problemas:** Sistemas que podem identificar e resolver problemas.\n> * **Reconhecimento de Padrões:** Sistemas que podem identificar padrões em dados.\n> * **Previsão:** Sistemas que podem prever eventos futuros com base em dados históricos."
          },
          "metadata": {}
        },
        {
          "output_type": "stream",
          "name": "stdout",
          "text": [
            "-------------------------------------------\n"
          ]
        }
      ]
    }
  ]
}